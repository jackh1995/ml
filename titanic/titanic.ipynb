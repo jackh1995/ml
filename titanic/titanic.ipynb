{
 "cells": [
  {
   "cell_type": "markdown",
   "metadata": {},
   "source": [
    "Titanic Project Example\n",
    "\n",
    "Abstract:\n",
    "In this notebook, I hope to show how a data scientist would go about working through a problem. \n",
    "\n",
    "Goal:\n",
    "The goal is to correctly predict if someone survived the Titanic shipwreck. \n",
    "\n",
    "Note:\n",
    "I thought it would be fun to see how well I could do in this competition without deep learning."
   ]
  },
  {
   "cell_type": "markdown",
   "metadata": {},
   "source": [
    "1. Understand the shape of the data (Histograms, box plots, etc.)\n",
    "2. Data Cleaning\n",
    "3. Data Exploration\n",
    "4. Feature Engineering\n",
    "5. Data Preprocessing for Model\n",
    "6. Basic Model Building\n",
    "7. Model Tuning\n",
    "8. Ensemble Modle Building\n",
    "9. Results"
   ]
  },
  {
   "cell_type": "code",
   "execution_count": null,
   "metadata": {},
   "outputs": [],
   "source": [
    "# Import modules\n",
    "import numpy as np\n",
    "import pandas as pd\n",
    "from matplotlib import pyplot as plt"
   ]
  }
 ],
 "metadata": {
  "interpreter": {
   "hash": "960e6ed259eaee5b44eb3de64476b91dbf80b8c48856b46aafe249a40eac1eb7"
  },
  "kernelspec": {
   "display_name": "Python 3.9.9 64-bit ('ml': conda)",
   "language": "python",
   "name": "python3"
  },
  "language_info": {
   "name": "python",
   "version": "3.9.9"
  },
  "orig_nbformat": 4
 },
 "nbformat": 4,
 "nbformat_minor": 2
}
