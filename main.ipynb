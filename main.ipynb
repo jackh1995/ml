{
 "cells": [
  {
   "cell_type": "code",
   "execution_count": 17,
   "metadata": {},
   "outputs": [],
   "source": [
    "import numpy as np\n",
    "from sklearn.model_selection import train_test_split\n",
    "np.random.seed(0)\n",
    "\n",
    "# Generate data\n",
    "b = 4\n",
    "w = 7\n",
    "\n",
    "x_list = np.random.uniform(low=-10.0, high=10.0, size=1000)\n",
    "noise_list = np.random.normal(0, 1e-2, 1000)\n",
    "y_list = b + w * x_list + noise_list\n",
    "x_train, x_test, y_train, y_test = train_test_split(x_list, y_list, test_size=0.33)\n",
    "\n",
    "# Define model\n",
    "# Define loss\n",
    "# Training\n",
    "# Testing"
   ]
  }
 ],
 "metadata": {
  "interpreter": {
   "hash": "e7cb1b9ae4d417fedf7f40a8eec98f7cfbd359e096bd857395a915f4609834ce"
  },
  "kernelspec": {
   "display_name": "Python 3.9.7 64-bit ('base': conda)",
   "language": "python",
   "name": "python3"
  },
  "language_info": {
   "codemirror_mode": {
    "name": "ipython",
    "version": 3
   },
   "file_extension": ".py",
   "mimetype": "text/x-python",
   "name": "python",
   "nbconvert_exporter": "python",
   "pygments_lexer": "ipython3",
   "version": "3.9.2"
  },
  "orig_nbformat": 4
 },
 "nbformat": 4,
 "nbformat_minor": 2
}
